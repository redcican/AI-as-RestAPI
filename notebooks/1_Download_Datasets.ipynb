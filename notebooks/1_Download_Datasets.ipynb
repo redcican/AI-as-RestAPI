{
 "cells": [
  {
   "cell_type": "code",
   "execution_count": 11,
   "id": "4d4b91ec",
   "metadata": {},
   "outputs": [],
   "source": [
    "import pathlib\n",
    "\n",
    "BASE_DIR = pathlib.Path().resolve().parent\n",
    "\n",
    "DATASET_DIR = BASE_DIR / \"datasets\"\n",
    "ZIPS_DIR = DATASET_DIR / \"zips\"\n",
    "\n",
    "ZIPS_DIR.mkdir(exist_ok=True, parents=True)"
   ]
  },
  {
   "cell_type": "code",
   "execution_count": 16,
   "id": "0868e6cc",
   "metadata": {},
   "outputs": [],
   "source": [
    "SMS_SPAM_ZIP_PATH = ZIPS_DIR /\"spam-dataset.zip\"\n",
    "\n",
    "YOUTUBE_SPAM_ZIP_PATH = ZIPS_DIR /\"youtube-dataset.zip\""
   ]
  },
  {
   "cell_type": "code",
   "execution_count": 12,
   "id": "fe0e9360",
   "metadata": {},
   "outputs": [],
   "source": [
    "sms_spam = \"https://archive.ics.uci.edu/ml/machine-learning-databases/00228/smsspamcollection.zip\""
   ]
  },
  {
   "cell_type": "code",
   "execution_count": 13,
   "id": "01348d04",
   "metadata": {},
   "outputs": [],
   "source": [
    "youtube_spam = \"https://archive.ics.uci.edu/ml/machine-learning-databases/00380/YouTube-Spam-Collection-v1.zip\""
   ]
  },
  {
   "cell_type": "code",
   "execution_count": 22,
   "id": "a0729cd5",
   "metadata": {},
   "outputs": [
    {
     "name": "stdout",
     "output_type": "stream",
     "text": [
      "  % Total    % Received % Xferd  Average Speed   Time    Time     Time  Current\n",
      "                                 Dload  Upload   Total   Spent    Left  Speed\n",
      "100  198k  100  198k    0     0   160k      0  0:00:01  0:00:01 --:--:--  160k\n"
     ]
    }
   ],
   "source": [
    "!curl $sms_spam -o $SMS_SPAM_ZIP_PATH"
   ]
  },
  {
   "cell_type": "code",
   "execution_count": 23,
   "id": "035010b2",
   "metadata": {},
   "outputs": [
    {
     "name": "stdout",
     "output_type": "stream",
     "text": [
      "  % Total    % Received % Xferd  Average Speed   Time    Time     Time  Current\n",
      "                                 Dload  Upload   Total   Spent    Left  Speed\n",
      "100  159k  100  159k    0     0   131k      0  0:00:01  0:00:01 --:--:--  131k\n"
     ]
    }
   ],
   "source": [
    "!curl $youtube_spam -o $YOUTUBE_SPAM_ZIP_PATH"
   ]
  },
  {
   "cell_type": "markdown",
   "id": "586a270f",
   "metadata": {},
   "source": [
    "### Unzip zip file"
   ]
  },
  {
   "cell_type": "code",
   "execution_count": 25,
   "id": "f2495208",
   "metadata": {},
   "outputs": [],
   "source": [
    "SPAM_CLASSIFIER_DIR = DATASET_DIR /\"spam-classifier\"\n",
    "SMS_SPAM_DIR = SPAM_CLASSIFIER_DIR /\"sms-spam\"\n",
    "YOUTUBE_SPAM_DIR = SPAM_CLASSIFIER_DIR /\"youtube-spam\"\n",
    "\n",
    "SMS_SPAM_DIR.mkdir(exist_ok=True, parents=True)\n",
    "YOUTUBE_SPAM_DIR.mkdir(exist_ok=True, parents=True)"
   ]
  },
  {
   "cell_type": "code",
   "execution_count": null,
   "id": "1c31e30e",
   "metadata": {},
   "outputs": [],
   "source": [
    "!unzip -o $SPAM_SMS_zp"
   ]
  }
 ],
 "metadata": {
  "kernelspec": {
   "display_name": "Python 3 (ipykernel)",
   "language": "python",
   "name": "python3"
  },
  "language_info": {
   "codemirror_mode": {
    "name": "ipython",
    "version": 3
   },
   "file_extension": ".py",
   "mimetype": "text/x-python",
   "name": "python",
   "nbconvert_exporter": "python",
   "pygments_lexer": "ipython3",
   "version": "3.9.7"
  }
 },
 "nbformat": 4,
 "nbformat_minor": 5
}
